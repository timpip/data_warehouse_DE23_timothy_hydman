{
 "cells": [
  {
   "cell_type": "code",
   "execution_count": null,
   "metadata": {},
   "outputs": [],
   "source": []
  },
  {
   "cell_type": "markdown",
   "metadata": {},
   "source": [
    "Theory Questions Data Pipline Lifecycle\n",
    "a) Why is the principal of least privilege important in a company?\n",
    "It is important that a user not are able to harm data so least privileage is a key factor keeping an enviroment healty and secure.\n",
    "\n",
    "b) Explain the role of dlt in managing data pipelines.\n",
    "The dlt role is responsible to extract upstream data and load it into a given storage.\n",
    "\n",
    "c) What is a data connector and why is it important in data integration?\n",
    "A data connector is a tool that helps connecting to different sources to exchange data.\n",
    "\n",
    "d) What is the difference between data extraction and data loading?\n",
    "Extraction of data means collecting data form different sources, and loading means taking that collected data and load it into a storage of choice.\n",
    "\n",
    "e) What is ELT and how does it differ from ETL?\n",
    "ELT stands for Extract, Load, Transformation and in ETL the transformation happends before loading.\n",
    "\n",
    "f) Discuss the advantages of performing data transformations after loading the data.\n",
    "When transforming the data before the loading, the process is performance enhances and makes it scalable and flexible.\n",
    "\n",
    "g) What is the purpose of roles in Snowflake?\n",
    "The ultimate goal is to achieve principal of least privilege. Make sure that all users have the privileage that they need but cannot harm the snowflake environment.\n",
    "\n",
    "h) Explain the difference between USAGE and OWNERSHIP privileges.\n",
    "USAGE privilege makes the user accessing the objects. OWNERSHIP grants full controll over the object. Only one role can have OWNERSHIP privilege.\n",
    "\n",
    "i) What information is required to create a user in Snowflake?\n",
    "Username, default warehouse, default database, user password, and role. \n",
    "\n",
    "\n"
   ]
  }
 ],
 "metadata": {
  "language_info": {
   "name": "python"
  }
 },
 "nbformat": 4,
 "nbformat_minor": 2
}
